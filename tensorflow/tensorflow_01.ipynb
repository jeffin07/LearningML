{
  "nbformat": 4,
  "nbformat_minor": 0,
  "metadata": {
    "colab": {
      "name": "tensorflow#01.ipynb",
      "version": "0.3.2",
      "provenance": [],
      "collapsed_sections": []
    },
    "kernelspec": {
      "name": "python3",
      "display_name": "Python 3"
    }
  },
  "cells": [
    {
      "metadata": {
        "id": "-ZBZ5OxdSZn8",
        "colab_type": "text"
      },
      "cell_type": "markdown",
      "source": [
        "**Tensorflow Example  #01**\n",
        "\n",
        "This Notebook Explains a simple introduction to tensorflow a deep learning framework by Google\n",
        "\n",
        "** What is TensorFlow?**\n",
        "\n",
        "TensorFlow is an open-source software library for dataflow programming across a range of tasks. It is a symbolic math library, and is also used for machine learning applications such as neural networks."
      ]
    },
    {
      "metadata": {
        "id": "JUbGjkWqU2-_",
        "colab_type": "text"
      },
      "cell_type": "markdown",
      "source": [
        "**MNIST DATASET**\n",
        "\n",
        "The MNIST database is a large database of handwritten digits that is commonly used for training various image processing systems. The database is also widely used for training and testing in the field of machine learning."
      ]
    },
    {
      "metadata": {
        "id": "_EwiCJS-VFWH",
        "colab_type": "text"
      },
      "cell_type": "markdown",
      "source": [
        "**What are we going to implement?** \n",
        "\n",
        "We are going to make a simple linear model to classify the hand writen images\n",
        "This is based on [Hvass Laboratories](https://www.youtube.com/watch?v=wuo4JdG3SvU&t=767s) \n",
        "Tutorial which helped me lot to understand tensorflow"
      ]
    },
    {
      "metadata": {
        "id": "C6opie8cWxdQ",
        "colab_type": "text"
      },
      "cell_type": "markdown",
      "source": [
        "**Imports**"
      ]
    },
    {
      "metadata": {
        "id": "si1dVVNlGFXM",
        "colab_type": "code",
        "colab": {}
      },
      "cell_type": "code",
      "source": [
        "from tensorflow.examples.tutorials.mnist import input_data\n",
        "import tensorflow as tf\n",
        "import numpy as np\n",
        "import matplotlib.pyplot as plt\n",
        "%matplotlib inline "
      ],
      "execution_count": 0,
      "outputs": []
    },
    {
      "metadata": {
        "id": "TH-qKSXTXCOH",
        "colab_type": "text"
      },
      "cell_type": "markdown",
      "source": [
        "**Understanding the Data**\n",
        "\n",
        "Here we are going to plot one of our images to know how it is packed "
      ]
    },
    {
      "metadata": {
        "id": "oebiT8YyGbGH",
        "colab_type": "code",
        "colab": {
          "base_uri": "https://localhost:8080/",
          "height": 395
        },
        "outputId": "685c7eab-1923-40dc-96a7-f85c2ebb70fd"
      },
      "cell_type": "code",
      "source": [
        "data=input_data.read_data_sets('data/MNIST/',one_hot=True)\n",
        "print(data.train.images.shape)\n",
        "img=data.train.images[5:6,:]\n",
        "img=img.reshape([28,28])\n",
        "plt.imshow(img)\n",
        "plt.xlabel(\"Label : {} \".format(np.argmax(data.train.labels[5:6,:],1)[-1]))\n",
        "\n"
      ],
      "execution_count": 96,
      "outputs": [
        {
          "output_type": "stream",
          "text": [
            "Extracting data/MNIST/train-images-idx3-ubyte.gz\n",
            "Extracting data/MNIST/train-labels-idx1-ubyte.gz\n",
            "Extracting data/MNIST/t10k-images-idx3-ubyte.gz\n",
            "Extracting data/MNIST/t10k-labels-idx1-ubyte.gz\n",
            "(55000, 784)\n"
          ],
          "name": "stdout"
        },
        {
          "output_type": "execute_result",
          "data": {
            "text/plain": [
              "Text(0.5,0,'Label : 8 ')"
            ]
          },
          "metadata": {
            "tags": []
          },
          "execution_count": 96
        },
        {
          "output_type": "display_data",
          "data": {
            "image/png": "[encoded data removed]",
            "text/plain": [
              "<matplotlib.figure.Figure at 0x7f3772fdc518>"
            ]
          },
          "metadata": {
            "tags": []
          }
        }
      ]
    },
    {
      "metadata": {
        "id": "Phg2LDpiXuuz",
        "colab_type": "text"
      },
      "cell_type": "markdown",
      "source": [
        "**Values which defines our Network**\n",
        "\n",
        "\n",
        "Later these values are used for Creating our learning variables (Weight and bias)\n",
        "\n"
      ]
    },
    {
      "metadata": {
        "id": "YLintBHRHGky",
        "colab_type": "code",
        "colab": {}
      },
      "cell_type": "code",
      "source": [
        "img_size=28\n",
        "input_size=784\n",
        "img_shape=(28,28)\n",
        "num_classes=10"
      ],
      "execution_count": 0,
      "outputs": []
    },
    {
      "metadata": {
        "id": "HOlg8d1IPiNa",
        "colab_type": "code",
        "colab": {}
      },
      "cell_type": "code",
      "source": [
        "x=tf.placeholder(tf.float32, [None,input_size])\n",
        "y=tf.placeholder(tf.float32, [None,num_classes])\n",
        "y_true_cls=tf.placeholder(tf.int64, [None])"
      ],
      "execution_count": 0,
      "outputs": []
    },
    {
      "metadata": {
        "id": "_FYMTB8QUMPz",
        "colab_type": "code",
        "colab": {}
      },
      "cell_type": "code",
      "source": [
        "weight = tf.Variable(tf.zeros([input_size,num_classes]))\n",
        "bias = tf.Variable(tf.zeros(([num_classes])))"
      ],
      "execution_count": 0,
      "outputs": []
    },
    {
      "metadata": {
        "id": "BQ_dOh4pYRB3",
        "colab_type": "text"
      },
      "cell_type": "markdown",
      "source": [
        "**Model**\n",
        "\n",
        "This littile eqaution represents a part of our model this eqaution is used to make our predictions in our forward pass . Then we perform a softmax and argmax functions because we need the class value(0-9) so first we apply softmax to make it  [0,1] range then we take the index of largest value as our prediction\n",
        "\n",
        "More information about [softmax](https://medium.com/data-science-bootcamp/understand-the-softmax-function-in-minutes-f3a59641e86d) and [argmax](https://www.tensorflow.org/api_docs/python/tf/argmax)\n"
      ]
    },
    {
      "metadata": {
        "id": "IEQArtv1U-ZS",
        "colab_type": "code",
        "colab": {}
      },
      "cell_type": "code",
      "source": [
        "logists=tf.matmul(x, weight) + bias"
      ],
      "execution_count": 0,
      "outputs": []
    },
    {
      "metadata": {
        "id": "wyrUxVsElKBP",
        "colab_type": "code",
        "colab": {
          "base_uri": "https://localhost:8080/",
          "height": 56
        },
        "outputId": "5429fbce-6c8b-46e5-b181-726fb5e91e24"
      },
      "cell_type": "code",
      "source": [
        "y_pred = tf.nn.softmax(logists)\n",
        "print(y_pred.shape)\n",
        "y_pred_cls = tf.argmax(y_pred,axis=1)\n",
        "print(y_pred_cls)"
      ],
      "execution_count": 87,
      "outputs": [
        {
          "output_type": "stream",
          "text": [
            "(?, 10)\n",
            "Tensor(\"ArgMax_6:0\", shape=(?,), dtype=int64)\n"
          ],
          "name": "stdout"
        }
      ]
    },
    {
      "metadata": {
        "id": "knWbRa7ObHaM",
        "colab_type": "text"
      },
      "cell_type": "markdown",
      "source": [
        "**Loss Function**\n",
        "\n",
        "We choose this inbuild loss function for our model and to minimize this we use gradient descent\n",
        "This is called back propagation where our model adjust it's parameters and learn from the given examples\n",
        "\n",
        "[Gradient Deccent](https://towardsdatascience.com/gradient-descent-simply-explained-1d2baa65c75)"
      ]
    },
    {
      "metadata": {
        "id": "WNcQOlNalcHe",
        "colab_type": "code",
        "colab": {}
      },
      "cell_type": "code",
      "source": [
        "cross_entropy = tf.nn.softmax_cross_entropy_with_logits_v2(logits=logists, labels=y)"
      ],
      "execution_count": 0,
      "outputs": []
    },
    {
      "metadata": {
        "id": "SUuGgfsyl6Q2",
        "colab_type": "code",
        "colab": {}
      },
      "cell_type": "code",
      "source": [
        "cost = tf.reduce_mean(cross_entropy)"
      ],
      "execution_count": 0,
      "outputs": []
    },
    {
      "metadata": {
        "id": "f47smhagmDd8",
        "colab_type": "code",
        "colab": {}
      },
      "cell_type": "code",
      "source": [
        "optimizer = tf.train.GradientDescentOptimizer(learning_rate = 0.5).minimize(cost)"
      ],
      "execution_count": 0,
      "outputs": []
    },
    {
      "metadata": {
        "id": "i-1VBtJXmie9",
        "colab_type": "code",
        "colab": {}
      },
      "cell_type": "code",
      "source": [
        "correct_class = tf.equal(y_pred_cls, y_true_cls)\n",
        "accuracy = tf.reduce_mean(tf.cast(correct_class, tf.float32))"
      ],
      "execution_count": 0,
      "outputs": []
    },
    {
      "metadata": {
        "id": "cs1XRsHecC80",
        "colab_type": "text"
      },
      "cell_type": "markdown",
      "source": [
        "**Training**\n",
        "\n",
        "In tensorflow execution starts by creating a session and we have to input the vlaue for placeholders\n",
        "to run the specified operation if your operation doesn't require any external inputs the **feed_dict** will be empty otherwise you have to specify each placeholder and their values"
      ]
    },
    {
      "metadata": {
        "id": "kOok_gTznJTK",
        "colab_type": "code",
        "colab": {}
      },
      "cell_type": "code",
      "source": [
        "session=tf.Session()\n",
        "session.run(tf.global_variables_initializer())"
      ],
      "execution_count": 0,
      "outputs": []
    },
    {
      "metadata": {
        "id": "JxgEjVKWoYZo",
        "colab_type": "code",
        "colab": {}
      },
      "cell_type": "code",
      "source": [
        "def train( epochs ):\n",
        "  for i in range(epochs):\n",
        "    x_train,y_train = data.train.next_batch(batch_size = 100)\n",
        "    feed_dict_train = {x:x_train, y:y_train}\n",
        "    session.run(optimizer, feed_dict = feed_dict_train)"
      ],
      "execution_count": 0,
      "outputs": []
    },
    {
      "metadata": {
        "id": "k_IAmXa_qLJ7",
        "colab_type": "code",
        "colab": {
          "base_uri": "https://localhost:8080/",
          "height": 56
        },
        "outputId": "b3f36e8e-aba3-4ff2-8c68-8d7fc18f0636"
      },
      "cell_type": "code",
      "source": [
        "data.test.cls=np.array([label.argmax() for label in data.test.labels])\n",
        "print(data.test.cls.shape)\n",
        "print(data.test.labels.shape)\n",
        "feed_dict_test={x:data.test.images,\n",
        "               y:data.test.labels,\n",
        "               y_true_cls:data.test.cls\n",
        "               }\n",
        "\n",
        "def accuracy_score():\n",
        "  value=session.run(accuracy,feed_dict = feed_dict_test)\n",
        "  print(\"Acurracy on test set {0:.1%} \".format(value))"
      ],
      "execution_count": 94,
      "outputs": [
        {
          "output_type": "stream",
          "text": [
            "(10000,)\n",
            "(10000, 10)\n"
          ],
          "name": "stdout"
        }
      ]
    },
    {
      "metadata": {
        "id": "9oBDlvd9rTsK",
        "colab_type": "code",
        "colab": {
          "base_uri": "https://localhost:8080/",
          "height": 36
        },
        "outputId": "2395f898-6e7b-4b62-ee1c-09f9a13863ae"
      },
      "cell_type": "code",
      "source": [
        "train(1000)\n",
        "accuracy_score()"
      ],
      "execution_count": 95,
      "outputs": [
        {
          "output_type": "stream",
          "text": [
            "Acurracy on test set 92.4% \n"
          ],
          "name": "stdout"
        }
      ]
    },
    {
      "metadata": {
        "id": "tm6On1lutrQ1",
        "colab_type": "code",
        "colab": {}
      },
      "cell_type": "code",
      "source": [
        "\n"
      ],
      "execution_count": 0,
      "outputs": []
    }
  ]
}